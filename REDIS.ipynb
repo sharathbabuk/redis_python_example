{
 "cells": [
  {
   "cell_type": "code",
   "execution_count": 1,
   "id": "ee333aca",
   "metadata": {},
   "outputs": [],
   "source": [
    "import redis"
   ]
  },
  {
   "cell_type": "code",
   "execution_count": 2,
   "id": "b5c6769f",
   "metadata": {},
   "outputs": [],
   "source": [
    "redis_host = \"localhost\"\n",
    "redis_port = 6379\n",
    "redis_password = \"\""
   ]
  },
  {
   "cell_type": "code",
   "execution_count": 3,
   "id": "158850a3",
   "metadata": {},
   "outputs": [],
   "source": [
    "r = redis.StrictRedis(host=redis_host, port=redis_port, password=redis_password, decode_responses=True)"
   ]
  },
  {
   "cell_type": "code",
   "execution_count": 4,
   "id": "2ff84a42",
   "metadata": {},
   "outputs": [
    {
     "data": {
      "text/plain": [
       "True"
      ]
     },
     "execution_count": 4,
     "metadata": {},
     "output_type": "execute_result"
    }
   ],
   "source": [
    "r.set(\"msg:hello\", \"Hello Redis!!!\")"
   ]
  },
  {
   "cell_type": "code",
   "execution_count": 5,
   "id": "72fb3b3a",
   "metadata": {},
   "outputs": [
    {
     "name": "stdout",
     "output_type": "stream",
     "text": [
      "Hello Redis!!!\n"
     ]
    }
   ],
   "source": [
    "msg = r.get(\"msg:hello\")\n",
    "print(msg)"
   ]
  },
  {
   "cell_type": "code",
   "execution_count": 6,
   "id": "93c2360a",
   "metadata": {},
   "outputs": [
    {
     "data": {
      "text/plain": [
       "True"
      ]
     },
     "execution_count": 6,
     "metadata": {},
     "output_type": "execute_result"
    }
   ],
   "source": [
    "r.ping()"
   ]
  },
  {
   "cell_type": "code",
   "execution_count": 7,
   "id": "628279f2",
   "metadata": {},
   "outputs": [],
   "source": [
    "def is_redis_available(r):\n",
    "    try:\n",
    "        r.ping()\n",
    "        print(\"Successfully connected to redis\")\n",
    "    except (redis.exceptions.ConnectionError, ConnectionRefusedError):\n",
    "        print(\"Redis connection error!\")\n",
    "        return False\n",
    "    return True"
   ]
  },
  {
   "cell_type": "code",
   "execution_count": 8,
   "id": "58aae0a4",
   "metadata": {},
   "outputs": [
    {
     "name": "stdout",
     "output_type": "stream",
     "text": [
      "Successfully connected to redis\n",
      "Yay!\n"
     ]
    }
   ],
   "source": [
    "if is_redis_available(r):\n",
    "    print(\"Yay!\")"
   ]
  },
  {
   "cell_type": "code",
   "execution_count": 9,
   "id": "25952db9",
   "metadata": {},
   "outputs": [
    {
     "data": {
      "text/plain": [
       "'Nassau'"
      ]
     },
     "execution_count": 9,
     "metadata": {},
     "output_type": "execute_result"
    }
   ],
   "source": [
    "r.mset({\"Croatia\": \"Zagreb\", \"Bahamas\": \"Nassau\"})\n",
    "\n",
    "r.get(\"Bahamas\")"
   ]
  },
  {
   "cell_type": "code",
   "execution_count": 10,
   "id": "17f11de7",
   "metadata": {},
   "outputs": [
    {
     "data": {
      "text/plain": [
       "'Zagreb'"
      ]
     },
     "execution_count": 10,
     "metadata": {},
     "output_type": "execute_result"
    }
   ],
   "source": [
    "r.get(\"Croatia\")"
   ]
  },
  {
   "cell_type": "code",
   "execution_count": null,
   "id": "aa20abfe",
   "metadata": {},
   "outputs": [],
   "source": []
  }
 ],
 "metadata": {
  "kernelspec": {
   "display_name": "Python 3 (ipykernel)",
   "language": "python",
   "name": "python3"
  },
  "language_info": {
   "codemirror_mode": {
    "name": "ipython",
    "version": 3
   },
   "file_extension": ".py",
   "mimetype": "text/x-python",
   "name": "python",
   "nbconvert_exporter": "python",
   "pygments_lexer": "ipython3",
   "version": "3.9.7"
  }
 },
 "nbformat": 4,
 "nbformat_minor": 5
}
